{
 "cells": [
  {
   "cell_type": "code",
   "execution_count": null,
   "metadata": {},
   "outputs": [],
   "source": [
    "from PIL import Image\n",
    "import cv2\n",
    "import numpy as np\n",
    "from matplotlib import pyplot as plt"
   ]
  },
  {
   "cell_type": "code",
   "execution_count": null,
   "metadata": {},
   "outputs": [],
   "source": [
    "def show(img):\n",
    "    plt.imshow(img), plt.axis('off')\n",
    "    plt.show()"
   ]
  },
  {
   "cell_type": "code",
   "execution_count": null,
   "metadata": {},
   "outputs": [],
   "source": [
    "image_bgr = cv2.imread('C:/Users/badec/Desktop/gabigol-debochando-sorrindo-flamengo.jpg')\n",
    "image_rgb = cv2.cvtColor(image_bgr, cv2.COLOR_BGR2RGB)\n",
    "\n",
    "show(image_rgb)\n",
    "\n",
    "print(image_rgb.shape)\n",
    "\n",
    "height, width = image_rgb.shape[:2]\n",
    "\n",
    "rectangle = (20, 10, width - 50, height)\n",
    "\n",
    "mask = np.zeros(image_rgb.shape[:2], np.uint8)\n",
    "\n",
    "bgdModel = np.zeros((1, 65), np.float64)\n",
    "fgdModel = np.zeros((1, 65), np.float64)\n",
    "\n",
    "cv2.grabCut(image_rgb, mask, rectangle, bgdModel, fgdModel, 5, cv2.GC_INIT_WITH_RECT)\n",
    "\n",
    "mask_2 = np.where((mask == 2) | (mask == 0), 0, 1).astype('uint8')\n",
    "\n",
    "image_rgd_nobg = image_rgb * mask_2[:, :, np.newaxis]\n",
    "\n",
    "show(image_rgd_nobg)"
   ]
  },
  {
   "cell_type": "code",
   "execution_count": null,
   "metadata": {},
   "outputs": [],
   "source": [
    "image = Image.fromarray(image_rgd_nobg).convert(\"RGBA\")\n",
    "\n",
    "datas = image.getdata() \n",
    "\n",
    "newData = [] \n",
    "for item in datas:\n",
    "    if item[0] == 0 and item[1] == 0 and item[2] == 0: \n",
    "        newData.append((255, 255, 255, 0)) \n",
    "    else: \n",
    "        newData.append(item) \n",
    "\n",
    "image.putdata(newData)\n",
    "\n",
    "show(image)"
   ]
  },
  {
   "cell_type": "code",
   "execution_count": null,
   "metadata": {},
   "outputs": [],
   "source": [
    "background = Image.open('C:/Users/badec/Desktop/Torcida-do-Flamengo-lota-Maracana-para-jogo-do-time-no-Brasileiro.jpg').convert(\"RGBA\")\n",
    "background = background.resize((width,height))\n",
    "show(background)"
   ]
  },
  {
   "cell_type": "code",
   "execution_count": null,
   "metadata": {},
   "outputs": [],
   "source": [
    "saida = Image.alpha_composite(background, image)\n",
    "\n",
    "show(saida)"
   ]
  }
 ],
 "metadata": {
  "language_info": {
   "name": "python"
  },
  "orig_nbformat": 4
 },
 "nbformat": 4,
 "nbformat_minor": 2
}
